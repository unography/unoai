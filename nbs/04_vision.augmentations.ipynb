{
 "cells": [
  {
   "cell_type": "code",
   "execution_count": null,
   "metadata": {},
   "outputs": [],
   "source": [
    "#default_exp vision.augmentations"
   ]
  },
  {
   "cell_type": "code",
   "execution_count": null,
   "metadata": {},
   "outputs": [],
   "source": [
    "#export\n",
    "from unoai.imports import *"
   ]
  },
  {
   "cell_type": "code",
   "execution_count": null,
   "metadata": {},
   "outputs": [],
   "source": [
    "#export\n",
    "def cutout(img, h: int,w: int):\n",
    "    shape = tf.shape(img)\n",
    "    height = shape[0]; width = shape[1]\n",
    "    x1 = tf.random.uniform([], 0, height+1 - h, tf.int32)\n",
    "    y1 = tf.random.uniform([], 0, width+1 - w, tf.int32)\n",
    "    img1 = tf.ones_like(img)  \n",
    "    cut_slice = tf.slice(img1,[x1, y1, 0],[h, w, 3])\n",
    "    mask = tf.image.pad_to_bounding_box([cut_slice],x1,y1,height,width)\n",
    "    mask = tf.ones_like(mask) - mask   \n",
    "    return tf.multiply(img,mask)[0]"
   ]
  }
 ],
 "metadata": {
  "kernelspec": {
   "display_name": "Python (venv)…",
   "language": "python",
   "name": "venv"
  }
 },
 "nbformat": 4,
 "nbformat_minor": 2
}
